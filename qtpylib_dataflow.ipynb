{
 "cells": [
  {
   "cell_type": "code",
   "execution_count": null,
   "metadata": {},
   "outputs": [],
   "source": [
    "import qtpylib\n",
    "from qtpylib import workflow as wf"
   ]
  },
  {
   "cell_type": "code",
   "execution_count": null,
   "metadata": {},
   "outputs": [],
   "source": [
    "# get data from Yahoo! finance\n",
    "df = wf.get_data_yahoo_intraday(\"ESZ16.CME\")\n",
    "df.tail()"
   ]
  },
  {
   "cell_type": "code",
   "execution_count": null,
   "metadata": {},
   "outputs": [],
   "source": [
    "# get data from Yahoo! finance\n",
    "df = wf.get_data_yahoo_intraday(\"ESZ16.CME\")\n",
    "df.tail()"
   ]
  },
  {
   "cell_type": "code",
   "execution_count": null,
   "metadata": {},
   "outputs": [],
   "source": [
    "# read data from existing csv file\n",
    "hsi_tick = pd.read_csv(\"~/Desktop/existing_data.csv\")"
   ]
  },
  {
   "cell_type": "code",
   "execution_count": null,
   "metadata": {},
   "outputs": [],
   "source": [
    "# prepare data for yahoo data\n",
    "ibtuple = (\"0001.HK\", \"STK\", \"SEHK\", \"HKD\")\n",
    "qtpylib_df = wf.prepare_data(ibtuple, data=df, output_path=\"~/Desktop/\")\n",
    "qtpylib_df.tail()"
   ]
  },
  {
   "cell_type": "code",
   "execution_count": null,
   "metadata": {},
   "outputs": [],
   "source": [
    "v# prepare data for tick data csv\n",
    "ibtuple2 = (\"ES\", \"FUT\", \"GLOBEX\", \"HKD\", 201612, 0.0, \"\")\n",
    "qtpylib_csv_df = wf.prepare_data(ibtuple2, data=hsi_tick, kind=\"TICK\", output_path=\"~/Desktop/\")\n",
    "qtpylib_csv_df.tail()"
   ]
  }
 ],
 "metadata": {
  "kernelspec": {
   "display_name": "Python 3",
   "language": "python",
   "name": "python3"
  },
  "language_info": {
   "codemirror_mode": {
    "name": "ipython",
    "version": 3
   },
   "file_extension": ".py",
   "mimetype": "text/x-python",
   "name": "python",
   "nbconvert_exporter": "python",
   "pygments_lexer": "ipython3",
   "version": "3.7.1"
  }
 },
 "nbformat": 4,
 "nbformat_minor": 2
}
